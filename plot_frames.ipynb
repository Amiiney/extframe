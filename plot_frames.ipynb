{
 "cells": [
  {
   "cell_type": "code",
   "execution_count": null,
   "id": "df732166",
   "metadata": {},
   "outputs": [],
   "source": [
    "import cv2\n",
    "import numpy as np\n",
    "import os\n",
    "import pandas as pd"
   ]
  },
  {
   "cell_type": "code",
   "execution_count": null,
   "id": "11037bc1",
   "metadata": {},
   "outputs": [],
   "source": [
    "RUN_MULTITRI= True\n"
   ]
  },
  {
   "cell_type": "code",
   "execution_count": null,
   "id": "147472c1",
   "metadata": {},
   "outputs": [],
   "source": [
    "# Load dataframe\n",
    "df = pd.read_csv('/Heichole/230323_HeiChole_Activity_Data/230323-043125_OHE_every8thframe.csv')\n",
    "trimap = pd.read_csv('/Heichole/230323_HeiChole_Activity_Data/230323-043125_map_triplets.csv')"
   ]
  },
  {
   "cell_type": "code",
   "execution_count": null,
   "id": "44386951",
   "metadata": {},
   "outputs": [],
   "source": [
    "# Create triplet column in the format [instrument, action, target]\n",
    "trimap['triplet'] = trimap['Instrument'] + ',' + trimap['Action'] + ',' + trimap['Target']\n",
    "\n",
    "# Create the path column\n",
    "df['path'] = df.Video + \"/\" + df.Frame\n",
    "\n",
    "\n",
    "## Create a column to save the multiple triplet indexes\n",
    "##\n",
    "##   YOU ONLY NEED TO RUN THIS ONCE AND SAVE THE DATAFRAME\n",
    "\n",
    "if RUN_MULTITRI:\n",
    "    ##Find the combination of triplets in each row\n",
    "    all_tri = []\n",
    "    df['multi_tri'] = -1\n",
    "    df['invivo'] =  -1\n",
    "    for i in range(len(df)):\n",
    "        triplets = []\n",
    "        row = df.iloc[:,:90].loc[i]\n",
    "        for j,k in enumerate(range(2,90)):\n",
    "            if row[k] == 1:\n",
    "                triplets.append(j)\n",
    "                print(triplets)\n",
    "        np_arr = np.array(triplets)\n",
    "        all_tri.append(triplets)\n",
    "        \n",
    "        if \"exvivo\" in df.at[i,\"Video\"]:\n",
    "            df.at[i, 'invivo'] = 0\n",
    "        else:\n",
    "            df.at[i, \"invivo\"] = 1\n",
    "        \n",
    "        \n",
    "    ##Save the triplet combination in a new column\n",
    "    df['multi_tri'] = all_tri"
   ]
  },
  {
   "cell_type": "code",
   "execution_count": null,
   "id": "b888b85b",
   "metadata": {},
   "outputs": [],
   "source": [
    "# Create a dictionarry to map the triplets\n",
    "# initializing lists\n",
    "tri_keys = trimap.id.tolist()\n",
    "tri_text = trimap.triplet.tolist()\n",
    "\n",
    "# using naive method\n",
    "# to convert lists to dictionary\n",
    "tridic = {}\n",
    "for key in tri_keys:\n",
    "    for value in tri_text:\n",
    "        tridic[key] = value\n",
    "        tri_text.remove(value)\n",
    "        break\n",
    "\n"
   ]
  },
  {
   "cell_type": "code",
   "execution_count": null,
   "id": "2346e7ea",
   "metadata": {},
   "outputs": [],
   "source": [
    "\n",
    "folder = \"/Heichole/frames/\"\n",
    "output_path = \"/Heichole/plot_frames/\"\n",
    "\n",
    "video = \"HeiChole17_25FPS\"\n",
    "vid_df=df[df['Video']== video].reset_index(drop=True)\n",
    "\n",
    "if not os.path.exists(output_path + video):\n",
    "    os.mkdir(output_path + video)\n",
    "\n",
    "for i in range(len(vid_df)):\n",
    "\n",
    "\n",
    "    \n",
    "    path = vid_df.loc[i, \"path\"]\n",
    "    frame = vid_df.loc[i, \"Frame\"]\n",
    "    TRAIN_PATH = folder + path\n",
    "    tris = vid_df.loc[i, \"multi_tri\"]\n",
    "    \n",
    "    targets = []\n",
    "    print(tris)\n",
    "    for t in range(len(tris)):\n",
    "        tar = tridic[tris[t]]\n",
    "        targets.append(tar)\n",
    "    \n",
    "    print(TRAIN_PATH, targets)\n",
    "    img= cv2.imread(TRAIN_PATH)\n",
    "    img = cv2.cvtColor(img, cv2.COLOR_BGR2RGB)\n",
    "    cv2.putText(img, f\"{frame}\", (50, 50 - 2), 0, 4.5 / 3, [255, 0, 0], thickness=3, lineType=cv2.LINE_AA)\n",
    "\n",
    "    for idx, onto in enumerate(targets):\n",
    "        cv2.putText(img, f\"{onto}\", (80, 450 - 2 + idx*50), 0, 4.5 / 5, [178, 235, 242], thickness=2, lineType=cv2.LINE_AA)\n",
    "        \n",
    "    cv2.imwrite(f\"{output_path}{video}/{i}.jpg\", cv2.cvtColor(img, cv2.COLOR_BGR2RGB))\n",
    "\n",
    "    #plt.imshow(img)\n",
    "    #plt.show()"
   ]
  }
 ],
 "metadata": {
  "kernelspec": {
   "display_name": "Python 3 (ipykernel)",
   "language": "python",
   "name": "python3"
  },
  "language_info": {
   "codemirror_mode": {
    "name": "ipython",
    "version": 3
   },
   "file_extension": ".py",
   "mimetype": "text/x-python",
   "name": "python",
   "nbconvert_exporter": "python",
   "pygments_lexer": "ipython3",
   "version": "3.9.12"
  }
 },
 "nbformat": 4,
 "nbformat_minor": 5
}
